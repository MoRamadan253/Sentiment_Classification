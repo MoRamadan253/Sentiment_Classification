{
  "cells": [
    {
      "cell_type": "markdown",
      "metadata": {
        "id": "view-in-github",
        "colab_type": "text"
      },
      "source": [
        "<a href=\"https://colab.research.google.com/github/MoRamadan253/Sentiment_Classification/blob/main/sentiment_classification.ipynb\" target=\"_parent\"><img src=\"https://colab.research.google.com/assets/colab-badge.svg\" alt=\"Open In Colab\"/></a>"
      ]
    },
    {
      "cell_type": "markdown",
      "id": "6fb87777",
      "metadata": {
        "id": "6fb87777"
      },
      "source": [
        "# Importing"
      ]
    },
    {
      "cell_type": "code",
      "execution_count": null,
      "id": "b3f8ddff",
      "metadata": {
        "id": "b3f8ddff"
      },
      "outputs": [],
      "source": [
        "import tensorflow as tf\n",
        "import os"
      ]
    },
    {
      "cell_type": "code",
      "execution_count": null,
      "id": "37d443a8",
      "metadata": {
        "id": "37d443a8"
      },
      "outputs": [],
      "source": [
        "gpus = tf.config.experimental.list_physical_devices('GPU')\n",
        "for gpu in gpus:\n",
        "    tf.config.experimental.set_memory_growth(gpu,True)"
      ]
    },
    {
      "cell_type": "markdown",
      "id": "1158f006",
      "metadata": {
        "id": "1158f006"
      },
      "source": [
        "# Removing Bad Images"
      ]
    },
    {
      "cell_type": "code",
      "execution_count": null,
      "id": "fe854987",
      "metadata": {
        "id": "fe854987"
      },
      "outputs": [],
      "source": [
        "import cv2\n",
        "import imghdr"
      ]
    },
    {
      "cell_type": "code",
      "execution_count": null,
      "id": "fc35773f",
      "metadata": {
        "id": "fc35773f"
      },
      "outputs": [],
      "source": [
        "data_dir = 'Data'"
      ]
    },
    {
      "cell_type": "code",
      "execution_count": null,
      "id": "916a8376",
      "metadata": {
        "id": "916a8376"
      },
      "outputs": [],
      "source": [
        "img_ext = ['jpeg','jpg','bmp','png']"
      ]
    },
    {
      "cell_type": "code",
      "execution_count": null,
      "id": "eaf4fce4",
      "metadata": {
        "id": "eaf4fce4",
        "outputId": "b581b6b0-bd04-4216-ed39-84782c0a9fd3"
      },
      "outputs": [
        {
          "name": "stdout",
          "output_type": "stream",
          "text": [
            "Image not in extension list Data\\Happy\\1rOrTgNQABn0P7dy3IrNDjg.jpeg\n",
            "Image not in extension list Data\\Happy\\2560px-Happy_People.jpg\n",
            "Image not in extension list Data\\Happy\\31418025-diverse-happy-people.jpg\n",
            "Image not in extension list Data\\Happy\\427394C200000578-0-image-a-24_1500384481554.jpg\n",
            "Image not in extension list Data\\Happy\\56f455011e0000b300705475.jpeg\n",
            "Image not in extension list Data\\Happy\\guilherme-stecanella-375176-unsplash.jpg\n",
            "Image not in extension list Data\\Happy\\portrait-young-father-carrying-his-260nw-736997836.jpg\n",
            "Image not in extension list Data\\Happy\\sjnv_cnh7ugnaddm7so6sq.jpg\n",
            "Image not in extension list Data\\Happy\\traitshappypeople.jpg\n",
            "Image not in extension list Data\\Sad\\39843138-sad-man.jpg\n",
            "Image not in extension list Data\\Sad\\50740738-sad-people-s-portraits.jpg\n",
            "Image not in extension list Data\\Sad\\african-american-depressive-sad-broken-260nw-475790911.jpg\n",
            "Image not in extension list Data\\Sad\\crying-sad.gif\n",
            "Image not in extension list Data\\Sad\\depositphotos_86851530-stock-photo-close-up-of-african-young.jpg\n",
            "Image not in extension list Data\\Sad\\depressed-man-studio-shot-260nw-404652526.jpg\n",
            "Image not in extension list Data\\Sad\\sad-woman-cry-face.jpg\n",
            "Image not in extension list Data\\Sad\\secret-signs-of-loneliness-01-1440x810.jpg\n"
          ]
        }
      ],
      "source": [
        "for image_class in os.listdir(data_dir):\n",
        "    for image in os.listdir(os.path.join(data_dir,image_class)):\n",
        "        image_path = os.path.join(data_dir,image_class,image)\n",
        "        try:\n",
        "            img = cv2.imread(image_path)\n",
        "            tip=imghdr.what(image_path)\n",
        "            if tip not in img_ext:\n",
        "                print('Image not in extension list {}'.format(image_path))\n",
        "                os.remove(image_path)\n",
        "        except Exception as e:\n",
        "            print('Issue')"
      ]
    },
    {
      "cell_type": "code",
      "execution_count": null,
      "id": "d3094fad",
      "metadata": {
        "id": "d3094fad"
      },
      "outputs": [],
      "source": [
        "import numpy as np\n",
        "from matplotlib import pyplot as plt"
      ]
    },
    {
      "cell_type": "code",
      "execution_count": null,
      "id": "f7174146",
      "metadata": {
        "id": "f7174146",
        "outputId": "4cdee01e-0edc-4c3f-cf22-a1a623e7d8ec"
      },
      "outputs": [
        {
          "name": "stdout",
          "output_type": "stream",
          "text": [
            "Found 182 files belonging to 2 classes.\n"
          ]
        }
      ],
      "source": [
        "data = tf.keras.utils.image_dataset_from_directory('data')"
      ]
    },
    {
      "cell_type": "code",
      "execution_count": null,
      "id": "14efb819",
      "metadata": {
        "id": "14efb819"
      },
      "outputs": [],
      "source": [
        "data_iterator = data.as_numpy_iterator()"
      ]
    },
    {
      "cell_type": "code",
      "execution_count": null,
      "id": "31744903",
      "metadata": {
        "id": "31744903"
      },
      "outputs": [],
      "source": [
        "batch = data_iterator.next()"
      ]
    },
    {
      "cell_type": "code",
      "execution_count": null,
      "id": "50c6c7ad",
      "metadata": {
        "id": "50c6c7ad",
        "outputId": "f38efa0e-3e28-49af-ad11-74c35d80b501"
      },
      "outputs": [
        {
          "data": {
            "text/plain": [
              "array([0, 0, 0, 1, 1, 1, 0, 1, 1, 1, 0, 0, 0, 0, 0, 1, 0, 0, 0, 0, 0, 0,\n",
              "       0, 0, 0, 1, 1, 1, 1, 0, 0, 0])"
            ]
          },
          "execution_count": 14,
          "metadata": {},
          "output_type": "execute_result"
        }
      ],
      "source": [
        "batch[1]"
      ]
    },
    {
      "cell_type": "markdown",
      "id": "7fe8f6d2",
      "metadata": {
        "id": "7fe8f6d2"
      },
      "source": [
        "# Pre-Processing"
      ]
    },
    {
      "cell_type": "markdown",
      "id": "a0adcb54",
      "metadata": {
        "id": "a0adcb54"
      },
      "source": [
        "Scaling our data"
      ]
    },
    {
      "cell_type": "code",
      "execution_count": null,
      "id": "27a18be8",
      "metadata": {
        "id": "27a18be8"
      },
      "outputs": [],
      "source": [
        "data = data.map(lambda x,y:(x/255,y))"
      ]
    },
    {
      "cell_type": "code",
      "execution_count": null,
      "id": "412c4785",
      "metadata": {
        "id": "412c4785"
      },
      "outputs": [],
      "source": [
        "scaled = data.as_numpy_iterator()"
      ]
    },
    {
      "cell_type": "code",
      "execution_count": null,
      "id": "fbb9666a",
      "metadata": {
        "id": "fbb9666a"
      },
      "outputs": [],
      "source": [
        "batch = scaled.next()"
      ]
    },
    {
      "cell_type": "code",
      "execution_count": null,
      "id": "ae47713e",
      "metadata": {
        "id": "ae47713e",
        "outputId": "c9d132a2-1d4b-4264-d253-5faa3f9527b8"
      },
      "outputs": [
        {
          "data": {
            "text/plain": [
              "1.0"
            ]
          },
          "execution_count": 36,
          "metadata": {},
          "output_type": "execute_result"
        }
      ],
      "source": [
        "batch[0].max()"
      ]
    },
    {
      "cell_type": "markdown",
      "id": "26cab715",
      "metadata": {
        "id": "26cab715"
      },
      "source": [
        "Split"
      ]
    },
    {
      "cell_type": "code",
      "execution_count": null,
      "id": "1d93da9f",
      "metadata": {
        "id": "1d93da9f",
        "outputId": "7eb8a50c-7748-4301-d33e-ab7540385f18"
      },
      "outputs": [
        {
          "data": {
            "text/plain": [
              "6"
            ]
          },
          "execution_count": 38,
          "metadata": {},
          "output_type": "execute_result"
        }
      ],
      "source": [
        "len(data)"
      ]
    },
    {
      "cell_type": "code",
      "execution_count": null,
      "id": "8aca1da0",
      "metadata": {
        "id": "8aca1da0"
      },
      "outputs": [],
      "source": [
        "train_size = int(len(data)*.7)\n",
        "val_size = int(len(data)*.2)\n",
        "test_size = int(len(data)*.1)+1"
      ]
    },
    {
      "cell_type": "code",
      "execution_count": null,
      "id": "efb31ad0",
      "metadata": {
        "id": "efb31ad0"
      },
      "outputs": [],
      "source": [
        "train = data.take(train_size)\n",
        "val = data.skip(train_size).take(val_size)\n",
        "test = data.skip(train_size+val_size).take(test_size)"
      ]
    },
    {
      "cell_type": "code",
      "execution_count": null,
      "id": "3d908fc6",
      "metadata": {
        "id": "3d908fc6",
        "outputId": "7b7c6613-24d6-4026-930b-757d9d528c89"
      },
      "outputs": [
        {
          "data": {
            "text/plain": [
              "1"
            ]
          },
          "execution_count": 47,
          "metadata": {},
          "output_type": "execute_result"
        }
      ],
      "source": [
        "len(test)"
      ]
    },
    {
      "cell_type": "markdown",
      "id": "d471dd4f",
      "metadata": {
        "id": "d471dd4f"
      },
      "source": [
        "# Model"
      ]
    },
    {
      "cell_type": "markdown",
      "id": "95e1e01f",
      "metadata": {
        "id": "95e1e01f"
      },
      "source": [
        "Model Building"
      ]
    },
    {
      "cell_type": "code",
      "execution_count": null,
      "id": "7342f611",
      "metadata": {
        "id": "7342f611"
      },
      "outputs": [],
      "source": [
        "from tensorflow.keras.models import Sequential\n",
        "from tensorflow.keras.layers import Conv2D,MaxPooling2D,Dense,Flatten,Dropout"
      ]
    },
    {
      "cell_type": "code",
      "execution_count": null,
      "id": "dfe26f9b",
      "metadata": {
        "id": "dfe26f9b"
      },
      "outputs": [],
      "source": [
        "model = Sequential()"
      ]
    },
    {
      "cell_type": "code",
      "execution_count": null,
      "id": "a9ed8071",
      "metadata": {
        "id": "a9ed8071"
      },
      "outputs": [],
      "source": [
        "model.add(Conv2D(16,(3,3),1,activation='relu',input_shape=(256,256,3)))\n",
        "model.add(MaxPooling2D())\n",
        "\n",
        "model.add(Conv2D(32,(3,3),1,activation='relu'))\n",
        "model.add(MaxPooling2D())\n",
        "\n",
        "model.add(Conv2D(16,(3,3),1,activation='relu'))\n",
        "model.add(MaxPooling2D())\n",
        "\n",
        "model.add(Flatten())\n",
        "\n",
        "model.add(Dense(256,activation='relu'))\n",
        "model.add(Dense(1,activation='sigmoid'))"
      ]
    },
    {
      "cell_type": "code",
      "execution_count": null,
      "id": "e4672f97",
      "metadata": {
        "id": "e4672f97"
      },
      "outputs": [],
      "source": [
        "model.compile('adam',loss=tf.losses.BinaryCrossentropy(),metrics=['accuracy'])"
      ]
    },
    {
      "cell_type": "code",
      "execution_count": null,
      "id": "b60804e4",
      "metadata": {
        "id": "b60804e4",
        "outputId": "a3594ac0-1e3b-4e6b-f819-c6232d4ce34e"
      },
      "outputs": [
        {
          "name": "stdout",
          "output_type": "stream",
          "text": [
            "Model: \"sequential\"\n",
            "_________________________________________________________________\n",
            " Layer (type)                Output Shape              Param #   \n",
            "=================================================================\n",
            " conv2d (Conv2D)             (None, 254, 254, 16)      448       \n",
            "                                                                 \n",
            " max_pooling2d (MaxPooling2D  (None, 127, 127, 16)     0         \n",
            " )                                                               \n",
            "                                                                 \n",
            " conv2d_1 (Conv2D)           (None, 125, 125, 32)      4640      \n",
            "                                                                 \n",
            " max_pooling2d_1 (MaxPooling  (None, 62, 62, 32)       0         \n",
            " 2D)                                                             \n",
            "                                                                 \n",
            " conv2d_2 (Conv2D)           (None, 60, 60, 16)        4624      \n",
            "                                                                 \n",
            " max_pooling2d_2 (MaxPooling  (None, 30, 30, 16)       0         \n",
            " 2D)                                                             \n",
            "                                                                 \n",
            " flatten (Flatten)           (None, 14400)             0         \n",
            "                                                                 \n",
            " dense (Dense)               (None, 256)               3686656   \n",
            "                                                                 \n",
            " dense_1 (Dense)             (None, 1)                 257       \n",
            "                                                                 \n",
            "=================================================================\n",
            "Total params: 3,696,625\n",
            "Trainable params: 3,696,625\n",
            "Non-trainable params: 0\n",
            "_________________________________________________________________\n"
          ]
        }
      ],
      "source": [
        "model.summary()"
      ]
    },
    {
      "cell_type": "markdown",
      "id": "7fd3b0f3",
      "metadata": {
        "id": "7fd3b0f3"
      },
      "source": [
        "Train"
      ]
    },
    {
      "cell_type": "code",
      "execution_count": null,
      "id": "c12b593e",
      "metadata": {
        "id": "c12b593e"
      },
      "outputs": [],
      "source": [
        "logdir='logs'"
      ]
    },
    {
      "cell_type": "code",
      "execution_count": null,
      "id": "0821a3aa",
      "metadata": {
        "id": "0821a3aa"
      },
      "outputs": [],
      "source": [
        "tensorboard_callback = tf.keras.callbacks.TensorBoard(log_dir=logdir)"
      ]
    },
    {
      "cell_type": "code",
      "execution_count": null,
      "id": "008b6956",
      "metadata": {
        "id": "008b6956",
        "outputId": "84f6a9b0-1201-4cc9-de2d-588dc31154e8"
      },
      "outputs": [
        {
          "name": "stdout",
          "output_type": "stream",
          "text": [
            "Epoch 1/20\n",
            "4/4 [==============================] - 5s 901ms/step - loss: 1.1213 - accuracy: 0.5234 - val_loss: 0.7349 - val_accuracy: 0.5000\n",
            "Epoch 2/20\n",
            "4/4 [==============================] - 4s 837ms/step - loss: 0.6088 - accuracy: 0.6328 - val_loss: 0.5978 - val_accuracy: 0.7188\n",
            "Epoch 3/20\n",
            "4/4 [==============================] - 4s 816ms/step - loss: 0.5795 - accuracy: 0.6406 - val_loss: 0.6895 - val_accuracy: 0.7812\n",
            "Epoch 4/20\n",
            "4/4 [==============================] - 4s 811ms/step - loss: 0.5470 - accuracy: 0.7031 - val_loss: 0.5334 - val_accuracy: 0.7188\n",
            "Epoch 5/20\n",
            "4/4 [==============================] - 4s 820ms/step - loss: 0.4819 - accuracy: 0.8125 - val_loss: 0.4909 - val_accuracy: 0.8125\n",
            "Epoch 6/20\n",
            "4/4 [==============================] - 4s 812ms/step - loss: 0.4419 - accuracy: 0.7812 - val_loss: 0.4017 - val_accuracy: 0.8438\n",
            "Epoch 7/20\n",
            "4/4 [==============================] - 4s 858ms/step - loss: 0.3444 - accuracy: 0.8906 - val_loss: 0.2487 - val_accuracy: 0.8750\n",
            "Epoch 8/20\n",
            "4/4 [==============================] - 4s 831ms/step - loss: 0.2697 - accuracy: 0.8828 - val_loss: 0.3285 - val_accuracy: 0.9062\n",
            "Epoch 9/20\n",
            "4/4 [==============================] - 4s 848ms/step - loss: 0.2891 - accuracy: 0.8906 - val_loss: 0.2245 - val_accuracy: 0.9062\n",
            "Epoch 10/20\n",
            "4/4 [==============================] - 4s 789ms/step - loss: 0.2132 - accuracy: 0.9297 - val_loss: 0.1683 - val_accuracy: 0.9688\n",
            "Epoch 11/20\n",
            "4/4 [==============================] - 4s 788ms/step - loss: 0.1345 - accuracy: 0.9844 - val_loss: 0.1199 - val_accuracy: 0.9688\n",
            "Epoch 12/20\n",
            "4/4 [==============================] - 4s 789ms/step - loss: 0.0779 - accuracy: 0.9844 - val_loss: 0.0910 - val_accuracy: 1.0000\n",
            "Epoch 13/20\n",
            "4/4 [==============================] - 4s 831ms/step - loss: 0.0861 - accuracy: 0.9609 - val_loss: 0.0268 - val_accuracy: 1.0000\n",
            "Epoch 14/20\n",
            "4/4 [==============================] - 4s 804ms/step - loss: 0.0462 - accuracy: 0.9922 - val_loss: 0.0456 - val_accuracy: 1.0000\n",
            "Epoch 15/20\n",
            "4/4 [==============================] - 4s 781ms/step - loss: 0.0314 - accuracy: 1.0000 - val_loss: 0.0172 - val_accuracy: 1.0000\n",
            "Epoch 16/20\n",
            "4/4 [==============================] - 4s 801ms/step - loss: 0.0201 - accuracy: 1.0000 - val_loss: 0.0106 - val_accuracy: 1.0000\n",
            "Epoch 17/20\n",
            "4/4 [==============================] - 4s 807ms/step - loss: 0.0143 - accuracy: 1.0000 - val_loss: 0.0028 - val_accuracy: 1.0000\n",
            "Epoch 18/20\n",
            "4/4 [==============================] - 4s 789ms/step - loss: 0.0092 - accuracy: 1.0000 - val_loss: 0.0028 - val_accuracy: 1.0000\n",
            "Epoch 19/20\n",
            "4/4 [==============================] - 4s 789ms/step - loss: 0.0039 - accuracy: 1.0000 - val_loss: 0.0015 - val_accuracy: 1.0000\n",
            "Epoch 20/20\n",
            "4/4 [==============================] - 4s 789ms/step - loss: 0.0027 - accuracy: 1.0000 - val_loss: 0.0016 - val_accuracy: 1.0000\n"
          ]
        }
      ],
      "source": [
        "hist = model.fit(train,epochs=20,validation_data=val,callbacks=[tensorboard_callback])"
      ]
    },
    {
      "cell_type": "code",
      "execution_count": null,
      "id": "812a922f",
      "metadata": {
        "id": "812a922f",
        "outputId": "84aee9b9-af5f-41c7-cbea-c3c6d539e981"
      },
      "outputs": [
        {
          "data": {
            "text/plain": [
              "{'loss': [1.1213006973266602,\n",
              "  0.6088196635246277,\n",
              "  0.5794900059700012,\n",
              "  0.5469763278961182,\n",
              "  0.4819251298904419,\n",
              "  0.441907674074173,\n",
              "  0.3443678021430969,\n",
              "  0.2696898877620697,\n",
              "  0.28907153010368347,\n",
              "  0.2131929099559784,\n",
              "  0.13450074195861816,\n",
              "  0.0779140517115593,\n",
              "  0.08611686527729034,\n",
              "  0.04615269601345062,\n",
              "  0.031426895409822464,\n",
              "  0.020099768415093422,\n",
              "  0.01432773470878601,\n",
              "  0.009242132306098938,\n",
              "  0.0038960317615419626,\n",
              "  0.0027349761221557856],\n",
              " 'accuracy': [0.5234375,\n",
              "  0.6328125,\n",
              "  0.640625,\n",
              "  0.703125,\n",
              "  0.8125,\n",
              "  0.78125,\n",
              "  0.890625,\n",
              "  0.8828125,\n",
              "  0.890625,\n",
              "  0.9296875,\n",
              "  0.984375,\n",
              "  0.984375,\n",
              "  0.9609375,\n",
              "  0.9921875,\n",
              "  1.0,\n",
              "  1.0,\n",
              "  1.0,\n",
              "  1.0,\n",
              "  1.0,\n",
              "  1.0],\n",
              " 'val_loss': [0.7349088191986084,\n",
              "  0.5977992415428162,\n",
              "  0.6894635558128357,\n",
              "  0.533380389213562,\n",
              "  0.49088844656944275,\n",
              "  0.4016939401626587,\n",
              "  0.2487105131149292,\n",
              "  0.3285136818885803,\n",
              "  0.22450602054595947,\n",
              "  0.16830061376094818,\n",
              "  0.1199314296245575,\n",
              "  0.09097357094287872,\n",
              "  0.026769284158945084,\n",
              "  0.04561183229088783,\n",
              "  0.017209812998771667,\n",
              "  0.010637061670422554,\n",
              "  0.002808663994073868,\n",
              "  0.0027917809784412384,\n",
              "  0.001474333694204688,\n",
              "  0.0016025779768824577],\n",
              " 'val_accuracy': [0.5,\n",
              "  0.71875,\n",
              "  0.78125,\n",
              "  0.71875,\n",
              "  0.8125,\n",
              "  0.84375,\n",
              "  0.875,\n",
              "  0.90625,\n",
              "  0.90625,\n",
              "  0.96875,\n",
              "  0.96875,\n",
              "  1.0,\n",
              "  1.0,\n",
              "  1.0,\n",
              "  1.0,\n",
              "  1.0,\n",
              "  1.0,\n",
              "  1.0,\n",
              "  1.0,\n",
              "  1.0]}"
            ]
          },
          "execution_count": 59,
          "metadata": {},
          "output_type": "execute_result"
        }
      ],
      "source": [
        "hist.history"
      ]
    },
    {
      "cell_type": "code",
      "execution_count": null,
      "id": "0c917408",
      "metadata": {
        "id": "0c917408",
        "outputId": "6d1ad656-1479-4bcd-9152-483b1ef18b27"
      },
      "outputs": [
        {
          "data": {
            "image/png": "[encoded data removed]",
            "text/plain": [
              "<Figure size 432x288 with 1 Axes>"
            ]
          },
          "metadata": {
            "needs_background": "light"
          },
          "output_type": "display_data"
        }
      ],
      "source": [
        "fig = plt.figure()\n",
        "plt.plot(hist.history['loss'], color='teal', label='loss')\n",
        "plt.plot(hist.history['val_loss'], color='orange', label='val_loss')\n",
        "fig.suptitle('Loss', fontsize=20)\n",
        "plt.legend(loc=\"upper left\")\n",
        "plt.show()"
      ]
    },
    {
      "cell_type": "code",
      "execution_count": null,
      "id": "cb7e0e5c",
      "metadata": {
        "scrolled": true,
        "id": "cb7e0e5c",
        "outputId": "b3ebd317-f5b0-410c-afd0-1efeaa827a30"
      },
      "outputs": [
        {
          "data": {
            "image/png": "[encoded data removed]",
            "text/plain": [
              "<Figure size 432x288 with 1 Axes>"
            ]
          },
          "metadata": {
            "needs_background": "light"
          },
          "output_type": "display_data"
        }
      ],
      "source": [
        "fig = plt.figure()\n",
        "plt.plot(hist.history['accuracy'], color='teal', label='accuracy')\n",
        "plt.plot(hist.history['val_accuracy'], color='orange', label='val_accuracy')\n",
        "fig.suptitle('Accuracy', fontsize=20)\n",
        "plt.legend(loc=\"upper left\")\n",
        "plt.show()"
      ]
    },
    {
      "cell_type": "markdown",
      "id": "61258efe",
      "metadata": {
        "id": "61258efe"
      },
      "source": [
        "# Evaluate"
      ]
    },
    {
      "cell_type": "code",
      "execution_count": null,
      "id": "bed3a677",
      "metadata": {
        "id": "bed3a677"
      },
      "outputs": [],
      "source": [
        "from tensorflow.keras.metrics import Precision, Recall, BinaryAccuracy\n"
      ]
    },
    {
      "cell_type": "code",
      "execution_count": null,
      "id": "18040aee",
      "metadata": {
        "id": "18040aee"
      },
      "outputs": [],
      "source": [
        "pre = Precision()\n",
        "re = Recall()\n",
        "acc = BinaryAccuracy()"
      ]
    },
    {
      "cell_type": "code",
      "execution_count": null,
      "id": "9c92b6a2",
      "metadata": {
        "id": "9c92b6a2",
        "outputId": "4ed0b162-1a8a-430e-b622-0b88f1a8b73c"
      },
      "outputs": [
        {
          "name": "stdout",
          "output_type": "stream",
          "text": [
            "1/1 [==============================] - 0s 136ms/step\n"
          ]
        }
      ],
      "source": [
        "for batch in test.as_numpy_iterator(): \n",
        "    X, y = batch\n",
        "    yhat = model.predict(X)\n",
        "    pre.update_state(y, yhat)\n",
        "    re.update_state(y, yhat)\n",
        "    acc.update_state(y, yhat)"
      ]
    },
    {
      "cell_type": "code",
      "execution_count": null,
      "id": "071f4885",
      "metadata": {
        "id": "071f4885",
        "outputId": "f770f5d0-f895-4f7e-ba58-74121ee36deb"
      },
      "outputs": [
        {
          "name": "stdout",
          "output_type": "stream",
          "text": [
            "tf.Tensor(1.0, shape=(), dtype=float32) tf.Tensor(1.0, shape=(), dtype=float32) tf.Tensor(1.0, shape=(), dtype=float32)\n"
          ]
        }
      ],
      "source": [
        "print(pre.result(), re.result(), acc.result())"
      ]
    },
    {
      "cell_type": "code",
      "execution_count": null,
      "id": "ae0ddd88",
      "metadata": {
        "id": "ae0ddd88"
      },
      "outputs": [],
      "source": []
    }
  ],
  "metadata": {
    "kernelspec": {
      "display_name": "Python 3 (ipykernel)",
      "language": "python",
      "name": "python3"
    },
    "language_info": {
      "codemirror_mode": {
        "name": "ipython",
        "version": 3
      },
      "file_extension": ".py",
      "mimetype": "text/x-python",
      "name": "python",
      "nbconvert_exporter": "python",
      "pygments_lexer": "ipython3",
      "version": "3.9.12"
    },
    "colab": {
      "provenance": [],
      "include_colab_link": true
    }
  },
  "nbformat": 4,
  "nbformat_minor": 5
}